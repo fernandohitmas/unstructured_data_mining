{
 "cells": [
  {
   "cell_type": "markdown",
   "metadata": {},
   "source": [
    "# Libraries"
   ]
  },
  {
   "cell_type": "code",
   "execution_count": 129,
   "metadata": {},
   "outputs": [],
   "source": [
    "import numpy as np\n",
    "import seaborn as sns\n",
    "import matplotlib.pyplot as plt\n",
    "import pandas as pd\n",
    "\n",
    "# Distances\n",
    "from sklearn.metrics import DistanceMetric"
   ]
  },
  {
   "cell_type": "code",
   "execution_count": 2,
   "metadata": {},
   "outputs": [],
   "source": [
    "%matplotlib inline"
   ]
  },
  {
   "cell_type": "code",
   "execution_count": 3,
   "metadata": {},
   "outputs": [],
   "source": [
    "sns.set_style('darkgrid')"
   ]
  },
  {
   "cell_type": "markdown",
   "metadata": {},
   "source": [
    "# Similarity Measures\n",
    "\n",
    "\n",
    "In many areas of knowledge it of interest of the researcher to establish whether<br>\n",
    "two different objects of study are similiar to each other in some kind of way.\n",
    "\n",
    "\n",
    "For the machine learning problems every object or observation has a set of <br>\n",
    "characteristics that describes this individual piece, these area called <br> \n",
    "features. The similarity measures are, then, used to know how these observations <br>\n",
    "are similar to one another, or \"near\" for a more physical way analogy.\n",
    "\n",
    "This notebooks shows a brief description of the following similarity measures:\n",
    "\n",
    "- Euclidean Distance\n",
    "- Manhattan Distance\n",
    "- Chebyshev Distance (Supremum)\n",
    "- Minkowski Distance\n",
    "- Mahalanobis Distance\n",
    "- Cosine Distance\n",
    "- Simple Couple Similarity - binary data\n",
    "- Jaccard Coefficient\n",
    "\n"
   ]
  },
  {
   "cell_type": "markdown",
   "metadata": {},
   "source": [
    "## Euclidean Distance"
   ]
  },
  {
   "cell_type": "markdown",
   "metadata": {},
   "source": [
    "The euclidean distance is calculated through the following formula:\n",
    "\n",
    "\n",
    "$d_{(x_i, x_j)} = \\sqrt{\\sum\\limits^d_{k=1} (x_{ik} - x_{jk})^2}$\n",
    "\n",
    "It can be interpreted as the line length that connects two points in the space.\n",
    "\n",
    "Importante observations:\n",
    "- the \"space\" doesn't need to be in two dimensions, this distance is easily <br>\n",
    "generalized for higher dimensions;\n",
    "- this distance can be overshadowed by dimensions (or features in the case of <br>\n",
    "Machine Learning) with bigger absolute values.\n"
   ]
  },
  {
   "cell_type": "markdown",
   "metadata": {},
   "source": [
    "### Loding iris dataset"
   ]
  },
  {
   "cell_type": "code",
   "execution_count": null,
   "metadata": {},
   "outputs": [],
   "source": [
    "from sklearn.metrics import euclidean_distances"
   ]
  },
  {
   "cell_type": "code",
   "execution_count": 4,
   "metadata": {},
   "outputs": [],
   "source": [
    "from sklearn.datasets import load_iris"
   ]
  },
  {
   "cell_type": "code",
   "execution_count": 6,
   "metadata": {},
   "outputs": [],
   "source": [
    "iris_info = load_iris()"
   ]
  },
  {
   "cell_type": "code",
   "execution_count": 17,
   "metadata": {},
   "outputs": [],
   "source": [
    "df_iris = pd.DataFrame(iris_info.data, columns=iris_info.feature_names)\n",
    "df_iris['species'] = iris_info.target\n",
    "df_iris['species'] = df_iris['species'].replace(to_replace= [0, 1, 2], value = ['setosa', 'versicolor', 'virginica'])"
   ]
  },
  {
   "cell_type": "code",
   "execution_count": 18,
   "metadata": {},
   "outputs": [
    {
     "data": {
      "text/html": [
       "<div>\n",
       "<style scoped>\n",
       "    .dataframe tbody tr th:only-of-type {\n",
       "        vertical-align: middle;\n",
       "    }\n",
       "\n",
       "    .dataframe tbody tr th {\n",
       "        vertical-align: top;\n",
       "    }\n",
       "\n",
       "    .dataframe thead th {\n",
       "        text-align: right;\n",
       "    }\n",
       "</style>\n",
       "<table border=\"1\" class=\"dataframe\">\n",
       "  <thead>\n",
       "    <tr style=\"text-align: right;\">\n",
       "      <th></th>\n",
       "      <th>sepal length (cm)</th>\n",
       "      <th>sepal width (cm)</th>\n",
       "      <th>petal length (cm)</th>\n",
       "      <th>petal width (cm)</th>\n",
       "      <th>species</th>\n",
       "    </tr>\n",
       "  </thead>\n",
       "  <tbody>\n",
       "    <tr>\n",
       "      <th>0</th>\n",
       "      <td>5.1</td>\n",
       "      <td>3.5</td>\n",
       "      <td>1.4</td>\n",
       "      <td>0.2</td>\n",
       "      <td>setosa</td>\n",
       "    </tr>\n",
       "    <tr>\n",
       "      <th>1</th>\n",
       "      <td>4.9</td>\n",
       "      <td>3.0</td>\n",
       "      <td>1.4</td>\n",
       "      <td>0.2</td>\n",
       "      <td>setosa</td>\n",
       "    </tr>\n",
       "    <tr>\n",
       "      <th>2</th>\n",
       "      <td>4.7</td>\n",
       "      <td>3.2</td>\n",
       "      <td>1.3</td>\n",
       "      <td>0.2</td>\n",
       "      <td>setosa</td>\n",
       "    </tr>\n",
       "    <tr>\n",
       "      <th>3</th>\n",
       "      <td>4.6</td>\n",
       "      <td>3.1</td>\n",
       "      <td>1.5</td>\n",
       "      <td>0.2</td>\n",
       "      <td>setosa</td>\n",
       "    </tr>\n",
       "    <tr>\n",
       "      <th>4</th>\n",
       "      <td>5.0</td>\n",
       "      <td>3.6</td>\n",
       "      <td>1.4</td>\n",
       "      <td>0.2</td>\n",
       "      <td>setosa</td>\n",
       "    </tr>\n",
       "  </tbody>\n",
       "</table>\n",
       "</div>"
      ],
      "text/plain": [
       "   sepal length (cm)  sepal width (cm)  petal length (cm)  petal width (cm)  \\\n",
       "0                5.1               3.5                1.4               0.2   \n",
       "1                4.9               3.0                1.4               0.2   \n",
       "2                4.7               3.2                1.3               0.2   \n",
       "3                4.6               3.1                1.5               0.2   \n",
       "4                5.0               3.6                1.4               0.2   \n",
       "\n",
       "  species  \n",
       "0  setosa  \n",
       "1  setosa  \n",
       "2  setosa  \n",
       "3  setosa  \n",
       "4  setosa  "
      ]
     },
     "execution_count": 18,
     "metadata": {},
     "output_type": "execute_result"
    }
   ],
   "source": [
    "df_iris.head()"
   ]
  },
  {
   "cell_type": "code",
   "execution_count": 19,
   "metadata": {},
   "outputs": [
    {
     "data": {
      "text/plain": [
       "(150, 5)"
      ]
     },
     "execution_count": 19,
     "metadata": {},
     "output_type": "execute_result"
    }
   ],
   "source": [
    "df_iris.shape"
   ]
  },
  {
   "cell_type": "markdown",
   "metadata": {},
   "source": [
    "### Selecting observations"
   ]
  },
  {
   "cell_type": "markdown",
   "metadata": {},
   "source": [
    "The iris dataset has 150 observation, for the example it will the chosen 2 at random.<br> \n",
    "Let's say, number 10 and number 75."
   ]
  },
  {
   "cell_type": "code",
   "execution_count": 31,
   "metadata": {},
   "outputs": [],
   "source": [
    "obs10 = df_iris.iloc[9, :-1].copy().to_numpy()\n",
    "obs75 = df_iris.iloc[74, :-1].copy().to_numpy()"
   ]
  },
  {
   "cell_type": "code",
   "execution_count": 32,
   "metadata": {},
   "outputs": [
    {
     "data": {
      "text/plain": [
       "array([np.float64(4.9), np.float64(3.1), np.float64(1.5), np.float64(0.1)],\n",
       "      dtype=object)"
      ]
     },
     "execution_count": 32,
     "metadata": {},
     "output_type": "execute_result"
    }
   ],
   "source": [
    "obs10"
   ]
  },
  {
   "cell_type": "code",
   "execution_count": 33,
   "metadata": {},
   "outputs": [
    {
     "data": {
      "text/plain": [
       "array([np.float64(6.4), np.float64(2.9), np.float64(4.3), np.float64(1.3)],\n",
       "      dtype=object)"
      ]
     },
     "execution_count": 33,
     "metadata": {},
     "output_type": "execute_result"
    }
   ],
   "source": [
    "obs75"
   ]
  },
  {
   "cell_type": "markdown",
   "metadata": {},
   "source": [
    "### Calculating euclidean distance"
   ]
  },
  {
   "cell_type": "code",
   "execution_count": 43,
   "metadata": {},
   "outputs": [
    {
     "name": "stdout",
     "output_type": "stream",
     "text": [
      "The eucliden distance for both observations: 3.401470270338991\n"
     ]
    }
   ],
   "source": [
    "print(\"The eucliden distance for both observations:\",euclidean_distances([obs10, obs75])[0,1])"
   ]
  },
  {
   "cell_type": "code",
   "execution_count": 131,
   "metadata": {},
   "outputs": [
    {
     "data": {
      "text/plain": [
       "array([[0.        , 3.40147027],\n",
       "       [3.40147027, 0.        ]])"
      ]
     },
     "execution_count": 131,
     "metadata": {},
     "output_type": "execute_result"
    }
   ],
   "source": [
    "eucl_dist = DistanceMetric.get_metric('euclidean')\n",
    "eucl_dist.pairwise([obs10, obs75])"
   ]
  },
  {
   "cell_type": "markdown",
   "metadata": {},
   "source": [
    "### Ilustration"
   ]
  },
  {
   "cell_type": "code",
   "execution_count": 126,
   "metadata": {},
   "outputs": [
    {
     "data": {
      "text/plain": [
       "Text(0, 0.5, 'sepal width')"
      ]
     },
     "execution_count": 126,
     "metadata": {},
     "output_type": "execute_result"
    },
    {
     "data": {
      "image/png": "[encoded data removed]",
      "text/plain": [
       "<Figure size 500x400 with 1 Axes>"
      ]
     },
     "metadata": {},
     "output_type": "display_data"
    }
   ],
   "source": [
    "fig, ax = plt.subplots(figsize=(5,4))\n",
    "\n",
    "ax.plot([obs10[0], obs75[0]], [obs10[1], obs75[1]])\n",
    "\n",
    "x = [obs10[0]]\n",
    "y = np.array([[obs10[1]]])\n",
    "ax.plot(x, y, '.-', c='red', markersize=15)\n",
    "\n",
    "x = [obs75[0]]\n",
    "y = np.array([[obs75[1]]])\n",
    "ax.plot(x, y, '.-', c='blue', markersize=15)\n",
    "\n",
    "ax.set_title('Euclidean distance for two observations')\n",
    "ax.set_xlabel('sepal length')\n",
    "ax.set_ylabel('sepal width')"
   ]
  },
  {
   "cell_type": "markdown",
   "metadata": {},
   "source": [
    "## Manhattan Distance\n",
    "\n",
    "The Manhattan Distance sums the length of the projection of the line segment between two points <br>\n",
    "onto every coordinate axes. Its formulation is described as:\n",
    "\n",
    "$ d_{x_i, x_j} = \\sum\\limits^d_{k=1} |x_{ik} - x_{jk}|$\n",
    "\n",
    "- This distance can be computationally more efficient than the Euclidean distance\n",
    "- Has better effectiveness with sparsed data (text, for example)\n",
    "- Less prone to the effect of extreme values/outliers"
   ]
  },
  {
   "cell_type": "markdown",
   "metadata": {},
   "source": [
    "### The manhattan_distances from sklearn library"
   ]
  },
  {
   "cell_type": "code",
   "execution_count": 99,
   "metadata": {},
   "outputs": [],
   "source": [
    "from sklearn.metrics.pairwise import manhattan_distances"
   ]
  },
  {
   "cell_type": "code",
   "execution_count": 101,
   "metadata": {},
   "outputs": [
    {
     "data": {
      "text/plain": [
       "array([[0. , 5.7],\n",
       "       [5.7, 0. ]])"
      ]
     },
     "execution_count": 101,
     "metadata": {},
     "output_type": "execute_result"
    }
   ],
   "source": [
    "manhattan_distances([obs10, obs75])"
   ]
  },
  {
   "cell_type": "code",
   "execution_count": 132,
   "metadata": {},
   "outputs": [
    {
     "data": {
      "text/plain": [
       "array([[0. , 5.7],\n",
       "       [5.7, 0. ]])"
      ]
     },
     "execution_count": 132,
     "metadata": {},
     "output_type": "execute_result"
    }
   ],
   "source": [
    "manh_dist = DistanceMetric.get_metric('manhattan')\n",
    "manh_dist.pairwise([obs10, obs75])"
   ]
  },
  {
   "cell_type": "markdown",
   "metadata": {},
   "source": [
    "### Calculating manually the Manhattan Distance for the two observations from the iris dataset"
   ]
  },
  {
   "cell_type": "code",
   "execution_count": 103,
   "metadata": {},
   "outputs": [
    {
     "data": {
      "text/plain": [
       "np.float64(5.7)"
      ]
     },
     "execution_count": 103,
     "metadata": {},
     "output_type": "execute_result"
    }
   ],
   "source": [
    "sum(np.abs(obs75 - obs10))"
   ]
  },
  {
   "cell_type": "markdown",
   "metadata": {},
   "source": [
    "### Ilustration"
   ]
  },
  {
   "cell_type": "code",
   "execution_count": 127,
   "metadata": {},
   "outputs": [
    {
     "data": {
      "text/plain": [
       "Text(0, 0.5, 'sepal width')"
      ]
     },
     "execution_count": 127,
     "metadata": {},
     "output_type": "execute_result"
    },
    {
     "data": {
      "image/png": "[encoded data removed]",
      "text/plain": [
       "<Figure size 500x400 with 1 Axes>"
      ]
     },
     "metadata": {},
     "output_type": "display_data"
    }
   ],
   "source": [
    "fig, ax = plt.subplots(figsize=(5,4))\n",
    "\n",
    "ax.plot([obs10[0], obs10[0]], [obs10[1], obs75[1]], c='blue')\n",
    "ax.plot([obs10[0], obs75[0]], [obs75[1], obs75[1]], c='blue')\n",
    "\n",
    "x = [obs10[0]]\n",
    "y = np.array([[obs10[1]]])\n",
    "ax.plot(x, y, '.-', c='red', markersize=15)\n",
    "\n",
    "x = [obs75[0]]\n",
    "y = np.array([[obs75[1]]])\n",
    "ax.plot(x, y, '.-', c='green', markersize=15)\n",
    "\n",
    "ax.set_title('Manhattan distance for two observations')\n",
    "ax.set_xlabel('sepal length')\n",
    "ax.set_ylabel('sepal width')"
   ]
  },
  {
   "cell_type": "markdown",
   "metadata": {},
   "source": [
    "## Chebyshev Distance\n",
    "\n",
    "The Chebychev Distance measures the biggest difference between two points <br>\n",
    "in space for any coordinate axis.\n",
    "\n",
    "$d_{(x_i, x_j)} = \\max\\limits_{1 \\leq k \\leq d} |x_{ik} - x_{jk}|$\n",
    "\n",
    "- Used in image analysis to determine the neighborhood around a pixel\n",
    "- Anomaly detection in data science"
   ]
  },
  {
   "cell_type": "markdown",
   "metadata": {},
   "source": [
    "### The Chebyshev distance form sklearn"
   ]
  },
  {
   "cell_type": "code",
   "execution_count": 134,
   "metadata": {},
   "outputs": [
    {
     "data": {
      "text/plain": [
       "array([[0. , 2.8],\n",
       "       [2.8, 0. ]])"
      ]
     },
     "execution_count": 134,
     "metadata": {},
     "output_type": "execute_result"
    }
   ],
   "source": [
    "cheb_dist = DistanceMetric.get_metric('chebyshev')\n",
    "cheb_dist.pairwise([obs10, obs75])"
   ]
  },
  {
   "cell_type": "markdown",
   "metadata": {},
   "source": [
    "### Calculating manually the Chebyshev Distance"
   ]
  },
  {
   "cell_type": "code",
   "execution_count": 135,
   "metadata": {},
   "outputs": [
    {
     "data": {
      "text/plain": [
       "np.float64(2.8)"
      ]
     },
     "execution_count": 135,
     "metadata": {},
     "output_type": "execute_result"
    }
   ],
   "source": [
    "np.max(np.abs(obs10 - obs75))"
   ]
  },
  {
   "cell_type": "markdown",
   "metadata": {},
   "source": [
    "### Ilustration"
   ]
  },
  {
   "cell_type": "code",
   "execution_count": 138,
   "metadata": {},
   "outputs": [
    {
     "data": {
      "text/plain": [
       "Text(0, 0.5, 'sepal width')"
      ]
     },
     "execution_count": 138,
     "metadata": {},
     "output_type": "execute_result"
    },
    {
     "data": {
      "image/png": "[encoded data removed]",
      "text/plain": [
       "<Figure size 500x400 with 1 Axes>"
      ]
     },
     "metadata": {},
     "output_type": "display_data"
    }
   ],
   "source": [
    "fig, ax = plt.subplots(figsize=(5,4))\n",
    "\n",
    "#ax.plot([obs10[0], obs10[0]], [obs10[1], obs75[1]], c='blue')\n",
    "ax.plot([obs10[0], obs75[0]], [obs75[1], obs75[1]], c='blue')\n",
    "\n",
    "x = [obs10[0]]\n",
    "y = np.array([[obs10[1]]])\n",
    "ax.plot(x, y, '.-', c='red', markersize=15)\n",
    "\n",
    "x = [obs75[0]]\n",
    "y = np.array([[obs75[1]]])\n",
    "ax.plot(x, y, '.-', c='green', markersize=15)\n",
    "\n",
    "ax.set_title('Chebyshev distance for two observations')\n",
    "ax.set_xlabel('sepal length')\n",
    "ax.set_ylabel('sepal width')"
   ]
  },
  {
   "cell_type": "markdown",
   "metadata": {},
   "source": [
    "## Minkowski Distance\n",
    "\n",
    "The Minkowski Distance is a generalization of the last three aformentioned distances.\n",
    "\n",
    "It is calculated as:\n",
    "\n",
    "$d_{(x_i, j_j)} = \\Big(\\sum\\limits^d_{k=1} |x_{ik} - x_{jk}|^p \\Big)^\\frac{1}{p}$\n",
    "\n",
    "- p=1: Manhattan\n",
    "- p=2: Euclidean\n",
    "- p $\\rightarrow \\infty$: Chebyshev"
   ]
  },
  {
   "cell_type": "markdown",
   "metadata": {},
   "source": [
    "### The Minkowski Distance from sklearn"
   ]
  },
  {
   "cell_type": "markdown",
   "metadata": {},
   "source": [
    "#### For $p=1$ | Manhattan"
   ]
  },
  {
   "cell_type": "code",
   "execution_count": 142,
   "metadata": {},
   "outputs": [
    {
     "data": {
      "text/plain": [
       "array([[0. , 5.7],\n",
       "       [5.7, 0. ]])"
      ]
     },
     "execution_count": 142,
     "metadata": {},
     "output_type": "execute_result"
    }
   ],
   "source": [
    "mink_dist = DistanceMetric.get_metric('minkowski', p=1)\n",
    "mink_dist.pairwise([obs10, obs75])"
   ]
  },
  {
   "cell_type": "markdown",
   "metadata": {},
   "source": [
    "#### For $p=2$ | Euclidean"
   ]
  },
  {
   "cell_type": "code",
   "execution_count": 144,
   "metadata": {},
   "outputs": [
    {
     "data": {
      "text/plain": [
       "array([[0.        , 3.40147027],\n",
       "       [3.40147027, 0.        ]])"
      ]
     },
     "execution_count": 144,
     "metadata": {},
     "output_type": "execute_result"
    }
   ],
   "source": [
    "mink_dist = DistanceMetric.get_metric('minkowski', p=2)\n",
    "mink_dist.pairwise([obs10, obs75])"
   ]
  },
  {
   "cell_type": "markdown",
   "metadata": {},
   "source": [
    "#### For $p\\rightarrow\\infty$ | Chebyshev"
   ]
  },
  {
   "cell_type": "code",
   "execution_count": 145,
   "metadata": {},
   "outputs": [
    {
     "data": {
      "text/plain": [
       "array([[0. , 2.8],\n",
       "       [2.8, 0. ]])"
      ]
     },
     "execution_count": 145,
     "metadata": {},
     "output_type": "execute_result"
    }
   ],
   "source": [
    "mink_dist = DistanceMetric.get_metric('minkowski', p=np.inf)\n",
    "mink_dist.pairwise([obs10, obs75])"
   ]
  },
  {
   "cell_type": "markdown",
   "metadata": {},
   "source": [
    "## The Mahalanobis Distance\n",
    "\n",
    "The Mahalanobis Distance can be described as a statistical distance, it is viewed <br>\n",
    "as so because of the usage of the inverse of the covariance matrix. It's <br>\n",
    "important to notice that one of the premisses is the normality of the distribution <br>\n",
    "for which the distance is going to be calculated.\n",
    "\n",
    "The formula to calculate the Mahalanobis Distance is:\n",
    "\n",
    "$d_{(x_i, x_j)} = (\\mathbf{x}_i - \\mathbf{x}_j)^T \\mathbf{C}^{-1}(\\mathbf{x}_i - \\mathbf{x}_j)$\n",
    "\n",
    "- It measures the clusters with diverse shapes\n",
    "- It has a high computational cost due to the calculation of the inverse of the covariance matrix"
   ]
  },
  {
   "cell_type": "code",
   "execution_count": 167,
   "metadata": {},
   "outputs": [
    {
     "data": {
      "text/plain": [
       "array([[ 0.        , 26.77433913],\n",
       "       [26.77433913,  0.        ]])"
      ]
     },
     "execution_count": 167,
     "metadata": {},
     "output_type": "execute_result"
    }
   ],
   "source": [
    "mahal_dist = DistanceMetric.get_metric('mahalanobis', V = np.cov(df_iris[df_iris['species'] == 'setosa'].iloc[:,:-1], ))\n",
    "mahal_dist.pairwise([obs10, obs75])"
   ]
  },
  {
   "cell_type": "code",
   "execution_count": null,
   "metadata": {},
   "outputs": [],
   "source": []
  },
  {
   "cell_type": "code",
   "execution_count": null,
   "metadata": {},
   "outputs": [],
   "source": []
  },
  {
   "cell_type": "code",
   "execution_count": null,
   "metadata": {},
   "outputs": [],
   "source": []
  },
  {
   "cell_type": "code",
   "execution_count": null,
   "metadata": {},
   "outputs": [],
   "source": []
  },
  {
   "cell_type": "code",
   "execution_count": null,
   "metadata": {},
   "outputs": [],
   "source": []
  },
  {
   "cell_type": "code",
   "execution_count": null,
   "metadata": {},
   "outputs": [],
   "source": []
  },
  {
   "cell_type": "code",
   "execution_count": null,
   "metadata": {},
   "outputs": [],
   "source": []
  }
 ],
 "metadata": {
  "kernelspec": {
   "display_name": "uns_data_mining_env",
   "language": "python",
   "name": "uns_data_mining_env"
  },
  "language_info": {
   "codemirror_mode": {
    "name": "ipython",
    "version": 3
   },
   "file_extension": ".py",
   "mimetype": "text/x-python",
   "name": "python",
   "nbconvert_exporter": "python",
   "pygments_lexer": "ipython3",
   "version": "3.12.2"
  }
 },
 "nbformat": 4,
 "nbformat_minor": 2
}
